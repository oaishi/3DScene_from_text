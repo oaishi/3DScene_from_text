{
 "cells": [
  {
   "cell_type": "code",
   "execution_count": 1,
   "metadata": {},
   "outputs": [],
   "source": [
    "from __future__ import print_function, division\n",
    "import os\n",
    "import torch\n",
    "from torch import nn\n",
    "import pandas as pd\n",
    "from skimage import io, transform\n",
    "import numpy as np\n",
    "import matplotlib.pyplot as plt\n",
    "from torch.utils.data import Dataset, DataLoader\n",
    "from torchvision import transforms, utils\n",
    "import json\n",
    "from transformers import TransfoXLTokenizer, TransfoXLModel\n",
    "\n",
    "# Ignore warnings\n",
    "import warnings\n",
    "warnings.filterwarnings(\"ignore\")"
   ]
  },
  {
   "cell_type": "code",
   "execution_count": null,
   "metadata": {},
   "outputs": [],
   "source": []
  },
  {
   "cell_type": "code",
   "execution_count": 2,
   "metadata": {
    "scrolled": true
   },
   "outputs": [
    {
     "name": "stdout",
     "output_type": "stream",
     "text": [
      "64\n"
     ]
    }
   ],
   "source": [
    "import pickle\n",
    "\n",
    "pickle_file = 'video_descriptions/generic_video_valD'\n",
    "output_folder = '../per_video_file/testD/'\n",
    "last_one = 12000        \n",
    "\n",
    "read_file = open(pickle_file, \"rb\")\n",
    "data_items = pickle.load(read_file)\n",
    "data_items = data_items['desc_list'][last_one:(last_one+64)]\n",
    "print(len(data_items))\n",
    "\n",
    "total_length = len(data_items)\n",
    "read_file.close()"
   ]
  },
  {
   "cell_type": "code",
   "execution_count": 3,
   "metadata": {
    "scrolled": true
   },
   "outputs": [],
   "source": [
    "tokenizer = TransfoXLTokenizer.from_pretrained('transfo-xl-wt103')\n",
    "pretrained_model = TransfoXLModel.from_pretrained('transfo-xl-wt103')\n",
    "\n",
    "object_max_len = 110\n",
    "\n",
    "\n",
    "        \n",
    "        \n",
    "for iter in range(total_length):#(0,2):#\n",
    "    \n",
    "    \n",
    "    \n",
    "#     print(data_items[iter]['description'])\n",
    "    \n",
    "    keys = {}\n",
    "    keys[\"source\"] = data_items[iter]['source']\n",
    "    keys[\"objects_color\"] = data_items[iter]['objects_color']\n",
    "    keys[\"objects_size\"] = data_items[iter]['objects_size']\n",
    "    keys[\"objects_shape\"] = data_items[iter]['objects_shape']\n",
    "    keys[\"objects_material\"] = data_items[iter]['objects_material']\n",
    "    keys[\"objects_motion\"] = data_items[iter]['objects_motion']\n",
    "    keys[\"description\"] = data_items[iter]['description']\n",
    "    keys[\"length\"] = data_items[iter]['length']\n",
    "    \n",
    "    hidden_state, _ = pretrained_model(torch.tensor(tokenizer.encode(keys[\"description\"], add_special_tokens=True, \n",
    "                add_space_before_punct_symbol=True)).unsqueeze(0))\n",
    "        \n",
    "    last_hidden = hidden_state[-1][-1]#.view(1,1,-1)\n",
    "    val = (object_max_len - list(hidden_state.shape)[1])\n",
    "\n",
    "\n",
    "            # https://pytorch.org/docs/stable/nn.html#constantpad2d\n",
    "    hidden_state = nn.ConstantPad2d((0, 0, 0, val), 0)(hidden_state)\n",
    "    \n",
    "    keys['hidden_state'] = hidden_state\n",
    "    keys['last_hidden'] = last_hidden\n",
    "    \n",
    "    desc_dict = {'desc_list': keys}\n",
    "    # with open('generic_description.json', 'w') as json_file:\n",
    "    #     json.dump(description_list, json_file, indent = 4, sort_keys=True)\n",
    "   \n",
    "    i = iter #+ last_one\n",
    "\n",
    "\n",
    "    save_file_name = output_folder + str(i)\n",
    "\n",
    "    with open(save_file_name, 'wb') as outfile:\n",
    "        pickle.dump(desc_dict,outfile)        \n",
    "        "
   ]
  },
  {
   "cell_type": "code",
   "execution_count": null,
   "metadata": {},
   "outputs": [],
   "source": []
  }
 ],
 "metadata": {
  "kernelspec": {
   "display_name": "Python 3",
   "language": "python",
   "name": "python3"
  },
  "language_info": {
   "codemirror_mode": {
    "name": "ipython",
    "version": 3
   },
   "file_extension": ".py",
   "mimetype": "text/x-python",
   "name": "python",
   "nbconvert_exporter": "python",
   "pygments_lexer": "ipython3",
   "version": "3.7.3"
  }
 },
 "nbformat": 4,
 "nbformat_minor": 2
}
